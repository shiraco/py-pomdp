{
 "cells": [
  {
   "cell_type": "code",
   "execution_count": 1,
   "metadata": {
    "collapsed": true
   },
   "outputs": [],
   "source": [
    "import numpy as np\n",
    "from pomdp import *"
   ]
  },
  {
   "cell_type": "code",
   "execution_count": 2,
   "metadata": {
    "collapsed": true
   },
   "outputs": [],
   "source": [
    "# Load 'full POMDP' using env, policy, and belief prior.\n",
    "pomdp = POMDP(\n",
    "    'examples/env/voicemail.pomdp',  # env\n",
    "    'examples/policy/voicemail.policy',  # policy\n",
    "    np.array([[0.65], [0.35]])  # prior\n",
    ")"
   ]
  },
  {
   "cell_type": "code",
   "execution_count": 3,
   "metadata": {
    "collapsed": false
   },
   "outputs": [
    {
     "name": "stdout",
     "output_type": "stream",
     "text": [
      "Round 1\n",
      "\t- action:          ask\n",
      "\t- expected reward: 3.4619529\n",
      "\t- obs given:       hearDelete\n",
      "\t- belief:          [ 0.347  0.653]\n",
      "Round 2\n",
      "\t- action:          ask\n",
      "\t- expected reward: 2.91002333333\n",
      "\t- obs given:       hearSave\n",
      "\t- belief:          [ 0.586  0.414]\n",
      "Round 3\n",
      "\t- action:          ask\n",
      "\t- expected reward: 3.13453841127\n",
      "\t- obs given:       hearSave\n",
      "\t- belief:          [ 0.79  0.21]\n",
      "Round 4\n",
      "\t- action:          doSave\n",
      "\t- expected reward: 5.14634218527\n",
      "\t- belief:          [ 0.65  0.35]\n"
     ]
    }
   ],
   "source": [
    "# Let's try some belief updates with the full POMDP.\n",
    "observations = ['hearDelete', 'hearSave', 'hearSave', 'hearSave']\n",
    "obs_idx = 0\n",
    "best_action_str = None\n",
    "\n",
    "while True:\n",
    "    print('Round', obs_idx + 1)\n",
    "    best_action_num, expected_reward = pomdp.get_best_action()\n",
    "    best_action_str = pomdp.get_action_str(best_action_num)\n",
    "    print('\\t- action:         ', best_action_str)\n",
    "    print('\\t- expected reward:', expected_reward)\n",
    "\n",
    "    if best_action_str != 'ask':\n",
    "        # We have a 'terminal' action (either 'doSave' or 'doDelete')\n",
    "        break\n",
    "\n",
    "    else:\n",
    "        # The action is 'ask': Provide our next observation.\n",
    "        obs_str = observations[obs_idx]\n",
    "        obs_idx += 1\n",
    "        print('\\t- obs given:      ', obs_str)\n",
    "        obs_num = pomdp.get_obs_num(obs_str)\n",
    "        pomdp.update_belief(best_action_num, obs_num)\n",
    "        # Show beliefs\n",
    "        print('\\t- belief:         ', np.round(pomdp.belief.flatten(), 3))\n",
    "\n",
    "# Take the 'terminal' action, and beliefs should be reset to prior.\n",
    "best_action_num, expected_reward = pomdp.get_best_action()\n",
    "pomdp.update_belief(best_action_num,\n",
    "    pomdp.get_obs_num('hearSave')) # Observation doesn't affect this action.\n",
    "print('\\t- belief:         ', np.round(pomdp.belief.flatten(), 3))"
   ]
  }
 ],
 "metadata": {
  "kernelspec": {
   "display_name": "Python 3",
   "language": "python",
   "name": "python3"
  },
  "language_info": {
   "codemirror_mode": {
    "name": "ipython",
    "version": 3
   },
   "file_extension": ".py",
   "mimetype": "text/x-python",
   "name": "python",
   "nbconvert_exporter": "python",
   "pygments_lexer": "ipython3",
   "version": "3.5.1"
  }
 },
 "nbformat": 4,
 "nbformat_minor": 0
}
